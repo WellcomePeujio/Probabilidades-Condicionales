{
  "nbformat": 4,
  "nbformat_minor": 0,
  "metadata": {
    "colab": {
      "private_outputs": true,
      "provenance": [],
      "authorship_tag": "ABX9TyNNgKbKLYhWF9/WsOWqU3l7",
      "include_colab_link": true
    },
    "kernelspec": {
      "name": "python3",
      "display_name": "Python 3"
    },
    "language_info": {
      "name": "python"
    }
  },
  "cells": [
    {
      "cell_type": "markdown",
      "metadata": {
        "id": "view-in-github",
        "colab_type": "text"
      },
      "source": [
        "<a href=\"https://colab.research.google.com/github/WellcomePeujio/Probabilidades-Condicionales/blob/main/C%C3%A1lculo_de_Probabilidades_Condicionales.ipynb\" target=\"_parent\"><img src=\"https://colab.research.google.com/assets/colab-badge.svg\" alt=\"Open In Colab\"/></a>"
      ]
    },
    {
      "cell_type": "markdown",
      "source": [
        "# Cálculo de Probabilidades Condicionales\n",
        "\n",
        "En un grupo de 100 estudiantes, 60 aprobaron matemáticas y 70 aprobaron ciencias. De estos, 40 aprobaron ambas asignaturas.\n",
        "\n",
        "## Preguntas:\n",
        "\n",
        "1. **Calcula la probabilidad de que un estudiante haya aprobado matemáticas dado que aprobó ciencias.**\n",
        "\n",
        "2. **Calcula la probabilidad de que un estudiante haya aprobado ciencias dado que aprobó matemáticas.**"
      ],
      "metadata": {
        "id": "GZ7V5k-mYj4A"
      }
    },
    {
      "cell_type": "markdown",
      "source": [
        "# Resolución Matemática: Cálculo de Probabilidades Condicionales\n",
        "\n",
        "## Datos del Problema\n",
        "\n",
        "- **Número total de estudiantes (\\$( N \\$))**: 100\n",
        "- **Número de estudiantes que aprobaron matemáticas (\\$( M \\$))**: 60\n",
        "- **Número de estudiantes que aprobaron ciencias (\\$( C \\$))**: 70\n",
        "- **Número de estudiantes que aprobaron ambas asignaturas (\\$( M \\cap C \\$))**: 40\n",
        "\n",
        "## 1. Probabilidad de que un estudiante haya aprobado matemáticas dado que aprobó ciencias\n",
        "\n",
        "La probabilidad condicional de que un estudiante haya aprobado matemáticas dado que aprobó ciencias se calcula utilizando la siguiente fórmula:\n",
        "\n",
        "$$\n",
        "P(M \\mid C) = \\frac{P(M \\cap C)}{P(C)}\n",
        "$$\n",
        "\n",
        "Donde:\n",
        "- \\$( P(M \\cap C) \\$) es la probabilidad de que un estudiante haya aprobado ambas asignaturas.\n",
        "- \\$( P(C) \\$) es la probabilidad de que un estudiante haya aprobado ciencias.\n",
        "\n",
        "Primero, calculamos \\$( P(M \\cap C) \\$) y \\$( P(C) \\$):\n",
        "\n",
        "$$\n",
        "P(M \\cap C) = \\frac{M \\cap C}{N} = \\frac{40}{100} = 0.40\n",
        "$$\n",
        "\n",
        "$$\n",
        "P(C) = \\frac{C}{N} = \\frac{70}{100} = 0.70\n",
        "$$\n",
        "\n",
        "Ahora, calculamos la probabilidad condicional:\n",
        "\n",
        "$$\n",
        "P(M \\mid C) = \\frac{0.40}{0.70} \\approx 0.5714\n",
        "$$\n",
        "\n",
        "Por lo tanto, la probabilidad de que un estudiante haya aprobado matemáticas dado que aprobó ciencias es **0.5714** o **57.14%**.\n",
        "\n",
        "## 2. Probabilidad de que un estudiante haya aprobado ciencias dado que aprobó matemáticas\n",
        "\n",
        "La probabilidad condicional de que un estudiante haya aprobado ciencias dado que aprobó matemáticas se calcula utilizando la siguiente fórmula:\n",
        "\n",
        "$$\n",
        "P(C \\mid M) = \\frac{P(C \\cap M)}{P(M)}\n",
        "$$\n",
        "\n",
        "Donde:\n",
        "- \\$( P(C \\cap M) \\$) es la probabilidad de que un estudiante haya aprobado ambas asignaturas.\n",
        "- \\$( P(M) \\$) es la probabilidad de que un estudiante haya aprobado matemáticas.\n",
        "\n",
        "Ya hemos calculado \\$( P(M \\cap C) \\$), por lo que ahora calculamos \\$( P(M) \\$):\n",
        "\n",
        "$$\n",
        "P(M) = \\frac{M}{N} = \\frac{60}{100} = 0.60\n",
        "$$\n",
        "\n",
        "Ahora, calculamos la probabilidad condicional:\n",
        "\n",
        "$$\n",
        "P(C \\mid M) = \\frac{0.40}{0.60} \\approx 0.6667\n",
        "$$\n",
        "\n",
        "Por lo tanto, la probabilidad de que un estudiante haya aprobado ciencias dado que aprobó matemáticas es **0.6667** o **66.67%**."
      ],
      "metadata": {
        "id": "9XIA2JeeZArJ"
      }
    },
    {
      "cell_type": "code",
      "source": [
        "import numpy as np\n",
        "import matplotlib.pyplot as plt\n",
        "\n",
        "# Datos del problema\n",
        "N = 100  # Número total de estudiantes\n",
        "M = 60   # Número de estudiantes que aprobaron matemáticas\n",
        "C = 70   # Número de estudiantes que aprobaron ciencias\n",
        "MC = 40  # Número de estudiantes que aprobaron ambas asignaturas\n",
        "\n",
        "# Función para calcular la probabilidad condicional P(M | C)\n",
        "def calcular_probabilidad_condicional_mc(MC, C):\n",
        "    return MC / C\n",
        "\n",
        "# Función para calcular la probabilidad condicional P(C | M)\n",
        "def calcular_probabilidad_condicional_cm(MC, M):\n",
        "    return MC / M\n",
        "\n",
        "# Cálculo de las probabilidades condicionales con los datos originales\n",
        "prob_mc = calcular_probabilidad_condicional_mc(MC, C)\n",
        "prob_cm = calcular_probabilidad_condicional_cm(MC, M)\n",
        "\n",
        "print(f\"Probabilidad de aprobar matemáticas dado que aprobó ciencias: {prob_mc:.4f}\")\n",
        "print(f\"Probabilidad de aprobar ciencias dado que aprobó matemáticas: {prob_cm:.4f}\")\n",
        "\n",
        "# Gráfica de evolución de las probabilidades condicionales\n",
        "MC_values = np.arange(0, min(M, C) + 1)\n",
        "prob_mc_values = [calcular_probabilidad_condicional_mc(mc, C) for mc in MC_values]\n",
        "prob_cm_values = [calcular_probabilidad_condicional_cm(mc, M) for mc in MC_values]\n",
        "\n",
        "plt.figure(figsize=(10, 6))\n",
        "\n",
        "plt.plot(MC_values, prob_mc_values, label='P(M | C)', color='blue', marker='o')\n",
        "plt.plot(MC_values, prob_cm_values, label='P(C | M)', color='green', marker='o')\n",
        "\n",
        "plt.title('Evolución de las Probabilidades Condicionales')\n",
        "plt.xlabel('Número de estudiantes que aprobaron ambas asignaturas (MC)')\n",
        "plt.ylabel('Probabilidad Condicional')\n",
        "plt.legend()\n",
        "plt.grid(True)\n",
        "plt.show()"
      ],
      "metadata": {
        "collapsed": true,
        "id": "09wSjb7Jafhc"
      },
      "execution_count": null,
      "outputs": []
    }
  ]
}